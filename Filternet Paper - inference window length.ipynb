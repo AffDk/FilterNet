{
 "cells": [
  {
   "cell_type": "code",
   "execution_count": 1,
   "metadata": {
    "ExecuteTime": {
     "end_time": "2020-02-21T01:05:35.159212Z",
     "start_time": "2020-02-21T01:05:34.526273Z"
    }
   },
   "outputs": [
    {
     "name": "stdout",
     "output_type": "stream",
     "text": [
      "Populating the interactive namespace from numpy and matplotlib\n"
     ]
    }
   ],
   "source": [
    "%pylab inline\n",
    "import pickle\n",
    "import glob\n",
    "import os\n",
    "import pandas as pd\n",
    "import numpy as np\n",
    "import sys\n",
    "\n",
    "sys.path.insert(0, \".\")\n",
    "\n",
    "import seaborn as sns\n",
    "\n",
    "sns.set()\n",
    "sns.set_style(\"whitegrid\")\n",
    "sns.set_context(\"paper\")\n",
    "\n",
    "\n",
    "def pd_full(rows=100):\n",
    "    pd.set_option(\"display.max_rows\", rows)\n",
    "    pd.set_option(\"display.max_columns\", None)\n",
    "    pd.set_option(\"display.width\", 2000)\n",
    "    pd.set_option(\"display.float_format\", \"{:20,.3f}\".format)\n",
    "    pd.set_option(\"display.max_colwidth\", None)\n",
    "\n",
    "\n",
    "pd_full()"
   ]
  },
  {
   "cell_type": "code",
   "execution_count": 2,
   "metadata": {
    "ExecuteTime": {
     "end_time": "2020-02-21T01:05:36.623070Z",
     "start_time": "2020-02-21T01:05:36.390492Z"
    }
   },
   "outputs": [],
   "source": [
    "# Load relevant experiment script\n",
    "import scripts.run_base_configs_exp as exp\n",
    "from filternet.training.evalmodel import *"
   ]
  },
  {
   "cell_type": "code",
   "execution_count": 3,
   "metadata": {
    "ExecuteTime": {
     "end_time": "2020-02-21T01:05:39.225902Z",
     "start_time": "2020-02-21T01:05:39.166843Z"
    }
   },
   "outputs": [
    {
     "name": "stderr",
     "output_type": "stream",
     "text": [
      "C:\\Users\\afsamani\\Anaconda3\\envs\\ML\\lib\\site-packages\\torch\\optim\\lr_scheduler.py:129: UserWarning: Detected call of `lr_scheduler.step()` before `optimizer.step()`. In PyTorch 1.1.0 and later, you should call them in the opposite order: `optimizer.step()` before `lr_scheduler.step()`.  Failure to do this will result in PyTorch skipping the first value of the learning rate schedule. See more details at https://pytorch.org/docs/stable/optim.html#how-to-adjust-learning-rate\n",
      "  warnings.warn(\"Detected call of `lr_scheduler.step()` before `optimizer.step()`. \"\n"
     ]
    },
    {
     "data": {
      "text/html": [
       "<div>\n",
       "<style scoped>\n",
       "    .dataframe tbody tr th:only-of-type {\n",
       "        vertical-align: middle;\n",
       "    }\n",
       "\n",
       "    .dataframe tbody tr th {\n",
       "        vertical-align: top;\n",
       "    }\n",
       "\n",
       "    .dataframe thead th {\n",
       "        text-align: right;\n",
       "    }\n",
       "</style>\n",
       "<table border=\"1\" class=\"dataframe\">\n",
       "  <thead>\n",
       "    <tr style=\"text-align: right;\">\n",
       "      <th></th>\n",
       "      <th>precision</th>\n",
       "      <th>recall</th>\n",
       "      <th>f1-score</th>\n",
       "      <th>support</th>\n",
       "      <th>event_f1</th>\n",
       "    </tr>\n",
       "  </thead>\n",
       "  <tbody>\n",
       "    <tr>\n",
       "      <th></th>\n",
       "      <td>0.963</td>\n",
       "      <td>0.959</td>\n",
       "      <td>0.961</td>\n",
       "      <td>12337</td>\n",
       "      <td>0.922</td>\n",
       "    </tr>\n",
       "    <tr>\n",
       "      <th>Open Door 1</th>\n",
       "      <td>0.621</td>\n",
       "      <td>0.857</td>\n",
       "      <td>0.720</td>\n",
       "      <td>84</td>\n",
       "      <td>0.667</td>\n",
       "    </tr>\n",
       "    <tr>\n",
       "      <th>Open Door 2</th>\n",
       "      <td>0.930</td>\n",
       "      <td>0.833</td>\n",
       "      <td>0.879</td>\n",
       "      <td>144</td>\n",
       "      <td>0.933</td>\n",
       "    </tr>\n",
       "    <tr>\n",
       "      <th>Close Door 1</th>\n",
       "      <td>0.728</td>\n",
       "      <td>0.670</td>\n",
       "      <td>0.698</td>\n",
       "      <td>88</td>\n",
       "      <td>0.714</td>\n",
       "    </tr>\n",
       "    <tr>\n",
       "      <th>Close Door 2</th>\n",
       "      <td>0.827</td>\n",
       "      <td>0.992</td>\n",
       "      <td>0.902</td>\n",
       "      <td>125</td>\n",
       "      <td>0.889</td>\n",
       "    </tr>\n",
       "    <tr>\n",
       "      <th>Open Fridge</th>\n",
       "      <td>0.872</td>\n",
       "      <td>0.660</td>\n",
       "      <td>0.751</td>\n",
       "      <td>341</td>\n",
       "      <td>0.931</td>\n",
       "    </tr>\n",
       "    <tr>\n",
       "      <th>Close Fridge</th>\n",
       "      <td>0.787</td>\n",
       "      <td>0.907</td>\n",
       "      <td>0.843</td>\n",
       "      <td>236</td>\n",
       "      <td>0.982</td>\n",
       "    </tr>\n",
       "    <tr>\n",
       "      <th>Open Dishwasher</th>\n",
       "      <td>0.659</td>\n",
       "      <td>0.738</td>\n",
       "      <td>0.696</td>\n",
       "      <td>149</td>\n",
       "      <td>0.727</td>\n",
       "    </tr>\n",
       "    <tr>\n",
       "      <th>Close Dishwasher</th>\n",
       "      <td>0.671</td>\n",
       "      <td>0.831</td>\n",
       "      <td>0.742</td>\n",
       "      <td>118</td>\n",
       "      <td>0.737</td>\n",
       "    </tr>\n",
       "    <tr>\n",
       "      <th>Open Drawer 1</th>\n",
       "      <td>0.683</td>\n",
       "      <td>0.695</td>\n",
       "      <td>0.689</td>\n",
       "      <td>59</td>\n",
       "      <td>0.632</td>\n",
       "    </tr>\n",
       "    <tr>\n",
       "      <th>Close Drawer 1</th>\n",
       "      <td>0.544</td>\n",
       "      <td>0.477</td>\n",
       "      <td>0.508</td>\n",
       "      <td>65</td>\n",
       "      <td>0.800</td>\n",
       "    </tr>\n",
       "    <tr>\n",
       "      <th>Open Drawer 2</th>\n",
       "      <td>0.966</td>\n",
       "      <td>0.452</td>\n",
       "      <td>0.615</td>\n",
       "      <td>62</td>\n",
       "      <td>0.833</td>\n",
       "    </tr>\n",
       "    <tr>\n",
       "      <th>Close Drawer 2</th>\n",
       "      <td>0.806</td>\n",
       "      <td>0.625</td>\n",
       "      <td>0.704</td>\n",
       "      <td>40</td>\n",
       "      <td>0.769</td>\n",
       "    </tr>\n",
       "    <tr>\n",
       "      <th>Open Drawer 3</th>\n",
       "      <td>0.748</td>\n",
       "      <td>0.869</td>\n",
       "      <td>0.804</td>\n",
       "      <td>99</td>\n",
       "      <td>0.960</td>\n",
       "    </tr>\n",
       "    <tr>\n",
       "      <th>Close Drawer 3</th>\n",
       "      <td>0.637</td>\n",
       "      <td>0.898</td>\n",
       "      <td>0.745</td>\n",
       "      <td>88</td>\n",
       "      <td>0.857</td>\n",
       "    </tr>\n",
       "    <tr>\n",
       "      <th>Clean Table</th>\n",
       "      <td>0.872</td>\n",
       "      <td>0.747</td>\n",
       "      <td>0.804</td>\n",
       "      <td>146</td>\n",
       "      <td>0.866</td>\n",
       "    </tr>\n",
       "    <tr>\n",
       "      <th>Drink from Cup</th>\n",
       "      <td>0.685</td>\n",
       "      <td>0.851</td>\n",
       "      <td>0.759</td>\n",
       "      <td>475</td>\n",
       "      <td>0.750</td>\n",
       "    </tr>\n",
       "    <tr>\n",
       "      <th>Toggle Switch</th>\n",
       "      <td>0.869</td>\n",
       "      <td>0.456</td>\n",
       "      <td>0.598</td>\n",
       "      <td>160</td>\n",
       "      <td>0.733</td>\n",
       "    </tr>\n",
       "    <tr>\n",
       "      <th>accuracy</th>\n",
       "      <td>0.926</td>\n",
       "      <td>0.926</td>\n",
       "      <td>0.926</td>\n",
       "      <td>0</td>\n",
       "      <td>NaN</td>\n",
       "    </tr>\n",
       "    <tr>\n",
       "      <th>macro avg</th>\n",
       "      <td>0.770</td>\n",
       "      <td>0.751</td>\n",
       "      <td>0.746</td>\n",
       "      <td>14816</td>\n",
       "      <td>0.817</td>\n",
       "    </tr>\n",
       "    <tr>\n",
       "      <th>weighted avg</th>\n",
       "      <td>0.930</td>\n",
       "      <td>0.926</td>\n",
       "      <td>0.926</td>\n",
       "      <td>14816</td>\n",
       "      <td>0.906</td>\n",
       "    </tr>\n",
       "  </tbody>\n",
       "</table>\n",
       "</div>"
      ],
      "text/plain": [
       "                            precision               recall             f1-score  support             event_f1\n",
       "                                0.963                0.959                0.961    12337                0.922\n",
       "Open Door 1                     0.621                0.857                0.720       84                0.667\n",
       "Open Door 2                     0.930                0.833                0.879      144                0.933\n",
       "Close Door 1                    0.728                0.670                0.698       88                0.714\n",
       "Close Door 2                    0.827                0.992                0.902      125                0.889\n",
       "Open Fridge                     0.872                0.660                0.751      341                0.931\n",
       "Close Fridge                    0.787                0.907                0.843      236                0.982\n",
       "Open Dishwasher                 0.659                0.738                0.696      149                0.727\n",
       "Close Dishwasher                0.671                0.831                0.742      118                0.737\n",
       "Open Drawer 1                   0.683                0.695                0.689       59                0.632\n",
       "Close Drawer 1                  0.544                0.477                0.508       65                0.800\n",
       "Open Drawer 2                   0.966                0.452                0.615       62                0.833\n",
       "Close Drawer 2                  0.806                0.625                0.704       40                0.769\n",
       "Open Drawer 3                   0.748                0.869                0.804       99                0.960\n",
       "Close Drawer 3                  0.637                0.898                0.745       88                0.857\n",
       "Clean Table                     0.872                0.747                0.804      146                0.866\n",
       "Drink from Cup                  0.685                0.851                0.759      475                0.750\n",
       "Toggle Switch                   0.869                0.456                0.598      160                0.733\n",
       "accuracy                        0.926                0.926                0.926        0                  NaN\n",
       "macro avg                       0.770                0.751                0.746    14816                0.817\n",
       "weighted avg                    0.930                0.926                0.926    14816                0.906"
      ]
     },
     "metadata": {},
     "output_type": "display_data"
    },
    {
     "data": {
      "text/plain": [
       "(0.9260763034888204, 0.7455457850458616, 58715.49246745205, 57856, 14816)"
      ]
     },
     "execution_count": 3,
     "metadata": {},
     "output_type": "execute_result"
    }
   ],
   "source": [
    "from filternet.datasets.opportunity import get_x_y_contig\n",
    "from filternet.datasets import sliding_window_x_y\n",
    "from torch.utils.data import DataLoader, TensorDataset\n",
    "\n",
    "# REPLACE WITH NEW MODEL\n",
    "model_dir = './scripts/saved_models/base_configs_7_multi_scale_cnn_lstm_1'\n",
    "em = load_eval_model_from_dir(model_dir)\n",
    "# em.run_test_set()\n",
    "# em.calc_metrics()\n",
    "# em.calc_ward_metrics()\n",
    "\n",
    "display(em.classification_report_df)\n",
    "em.f1, em.f1_mean, em.infer_samples_per_s, em.n_samples_in, em.n_samples_out\n"
   ]
  },
  {
   "cell_type": "code",
   "execution_count": 4,
   "metadata": {
    "ExecuteTime": {
     "end_time": "2020-02-09T14:24:25.221809Z",
     "start_time": "2020-02-09T14:24:23.682747Z"
    },
    "scrolled": true
   },
   "outputs": [
    {
     "name": "stderr",
     "output_type": "stream",
     "text": [
      "e:\\OneDrive - Aalborg Universitet\\WrokResults\\FilterNet\\.\\filternet\\datasets\\opportunity.py:84: FutureWarning: The default value of regex will change from True to False in a future version. In addition, single character regular expressions will *not* be treated as literal strings when regex=True.\n",
      "  (\n"
     ]
    },
    {
     "name": "stdout",
     "output_type": "stream",
     "text": [
      "Opportunity data not cached. Creating cache now...\n",
      "Test10!!!!!!\n",
      "dataset/S1-ADL4.dat\n",
      "dataset/S1-Drill.dat\n",
      "dataset/S1-ADL5.dat\n",
      "dataset/S1-ADL1.dat\n",
      "dataset/S1-ADL2.dat\n",
      "dataset/S1-ADL3.dat\n",
      "dataset/S2-ADL2.dat\n",
      "dataset/S3-ADL2.dat\n",
      "dataset/S3-ADL1.dat\n",
      "dataset/S2-ADL1.dat\n",
      "dataset/S3-Drill.dat\n",
      "dataset/S2-Drill.dat\n",
      "dataset/S2-ADL3.dat\n",
      "dataset/S3-ADL3.dat\n",
      "dataset/S2-ADL4.dat\n",
      "dataset/S2-ADL5.dat\n",
      "dataset/S3-ADL4.dat\n",
      "dataset/S3-ADL5.dat\n",
      "Caching done.\n",
      "Loading cached data.\n",
      "Loaded.\n",
      "Cropping data from 118750 to 114688 for consistency between win_lens\n",
      "32\n",
      "64\n",
      "128\n",
      "256\n",
      "512\n",
      "1024\n",
      "2048\n",
      "4096\n",
      "8192\n",
      "16384\n"
     ]
    }
   ],
   "source": [
    "Xc, ycs, data_spec = get_x_y_contig('test')\n",
    "dls = {}\n",
    "win_lens = [\n",
    "    32, \n",
    "    64, \n",
    "    128, \n",
    "    256, \n",
    "    512, \n",
    "    1024, \n",
    "    1024*2, \n",
    "    1024*4, \n",
    "    1024* 8, \n",
    "     1024*16\n",
    "]\n",
    "\n",
    "new_len = int(floor(len(Xc) / np.max(win_lens)) * np.max(win_lens))\n",
    "print(f'Cropping data from {len(Xc)} to {new_len} for consistency between win_lens')\n",
    "Xc = Xc[:new_len]\n",
    "ycs = [yc[:new_len] for yc in ycs]\n",
    "\n",
    "for win_len in win_lens:\n",
    "    print(win_len)\n",
    "    # Properly window data for this model\n",
    "    X, ys = sliding_window_x_y(\n",
    "        Xc,\n",
    "        ycs,\n",
    "        win_len=win_len,\n",
    "        step=int(win_len/2),\n",
    "        shuffle=False,  \n",
    "    )\n",
    "\n",
    "    dls[win_len] = DataLoader(\n",
    "        TensorDataset(torch.Tensor(X), *[torch.Tensor(y).long() for y in ys]),\n",
    "        batch_size=em.eval_batch_size,\n",
    "        shuffle=False,\n",
    "    )"
   ]
  },
  {
   "cell_type": "code",
   "execution_count": null,
   "metadata": {
    "ExecuteTime": {
     "end_time": "2020-02-09T14:24:30.454092Z",
     "start_time": "2020-02-09T14:24:30.450947Z"
    }
   },
   "outputs": [],
   "source": [
    "results = []"
   ]
  },
  {
   "cell_type": "code",
   "execution_count": null,
   "metadata": {
    "ExecuteTime": {
     "end_time": "2020-02-09T15:33:12.817333Z",
     "start_time": "2020-02-09T14:24:31.351929Z"
    }
   },
   "outputs": [],
   "source": [
    "\n",
    "for base_config in ['base_cnn', 'multi_scale_cnn','base_lstm',\n",
    "       'cnn_lstm',  \n",
    "                    'multi_scale_cnn_lstm']:\n",
    "    for i_run in range(2,7):\n",
    "        model_dir = f'saved_models/base_configs_7_{base_config}_{i_run}'\n",
    "        print(model_dir)\n",
    "        em = load_eval_model_from_dir(model_dir)\n",
    "        \n",
    "        for win_len in win_lens:\n",
    "            print(win_len)\n",
    "\n",
    "            em.cuda = True\n",
    "            em.device = 'cuda'\n",
    "            em.model.cuda()\n",
    "            em.run_test_set(dls[win_len])\n",
    "            cuda_infer_rate = em.infer_samples_per_s\n",
    "\n",
    "            em.cuda = False\n",
    "            em.device = 'cpu'\n",
    "            em.model.cpu()\n",
    "            em.run_test_set(dls[win_len])\n",
    "            cpu_infer_rate = em.infer_samples_per_s\n",
    "\n",
    "            # Run on this data subset\n",
    "            em.run_test_set(dls[win_len])\n",
    "            # Calc new metrics for *just* this subset\n",
    "            em.calc_metrics()\n",
    "            em.calc_ward_metrics()\n",
    "\n",
    "        #     display(em.classification_report_df)\n",
    "            print(em.f1, em.f1_mean, em.event_f1, int(em.infer_samples_per_s/1000), em.n_samples_in, em.n_samples_out)\n",
    "            results.append(dict(\n",
    "                win_len=win_len,\n",
    "                i_run=i_run,\n",
    "                model_dir=model_dir,\n",
    "                base_config=em.trainer.base_config,\n",
    "                f1=em.f1, \n",
    "             f1_mean=em.f1_mean,\n",
    "             event_f1=em.event_f1,\n",
    "#              fer_samples_per_s=em.infer_samples_per_s,\n",
    "             cuda_infer_rate = cuda_infer_rate,\n",
    "             cpu_infer_rate  = cpu_infer_rate\n",
    "            ))\n"
   ]
  },
  {
   "cell_type": "code",
   "execution_count": null,
   "metadata": {
    "ExecuteTime": {
     "end_time": "2020-02-09T15:34:10.275827Z",
     "start_time": "2020-02-09T15:34:10.271580Z"
    }
   },
   "outputs": [],
   "source": [
    "'a' # 4204"
   ]
  },
  {
   "cell_type": "code",
   "execution_count": null,
   "metadata": {
    "ExecuteTime": {
     "end_time": "2020-02-09T15:34:13.620561Z",
     "start_time": "2020-02-09T15:34:13.600985Z"
    }
   },
   "outputs": [],
   "source": [
    "df_results = pd.DataFrame(results)\n",
    "df_results"
   ]
  },
  {
   "cell_type": "code",
   "execution_count": null,
   "metadata": {
    "ExecuteTime": {
     "end_time": "2020-02-09T15:34:15.592172Z",
     "start_time": "2020-02-09T15:34:15.561044Z"
    }
   },
   "outputs": [],
   "source": [
    "df_results.groupby(['base_config', 'win_len']).mean().sort_index().drop('i_run', axis=1)"
   ]
  },
  {
   "cell_type": "code",
   "execution_count": null,
   "metadata": {
    "ExecuteTime": {
     "end_time": "2020-02-09T15:34:19.758095Z",
     "start_time": "2020-02-09T15:34:19.752638Z"
    }
   },
   "outputs": [],
   "source": [
    "# CHECKPOINT\n",
    "import time\n",
    "timestr = time.strftime(\"%Y%m%d-%H%M%S\")\n",
    "fn =  f\"win_len_timings_df_{timestr}.pkl\"\n",
    "df_results.to_pickle(fn)\n",
    "fn"
   ]
  },
  {
   "cell_type": "code",
   "execution_count": null,
   "metadata": {},
   "outputs": [],
   "source": [
    "raise Exception() # So we don't automatically run through this\n",
    "# must change filename below to match above."
   ]
  },
  {
   "cell_type": "code",
   "execution_count": null,
   "metadata": {
    "ExecuteTime": {
     "end_time": "2020-02-21T01:05:48.576188Z",
     "start_time": "2020-02-21T01:05:48.379938Z"
    }
   },
   "outputs": [],
   "source": [
    "fn = 'win_len_timings_df_20200209-153419.pkl'\n",
    "df = pd.read_pickle(fn)\n",
    "df.cuda_infer_rate /= 1000\n",
    "df.cpu_infer_rate /= 1000"
   ]
  },
  {
   "cell_type": "code",
   "execution_count": null,
   "metadata": {
    "ExecuteTime": {
     "end_time": "2020-02-21T01:05:49.312023Z",
     "start_time": "2020-02-21T01:05:49.307736Z"
    }
   },
   "outputs": [],
   "source": [
    "df.base_config.unique()"
   ]
  },
  {
   "cell_type": "code",
   "execution_count": null,
   "metadata": {
    "ExecuteTime": {
     "end_time": "2020-02-21T01:05:50.059897Z",
     "start_time": "2020-02-21T01:05:50.050276Z"
    }
   },
   "outputs": [],
   "source": [
    "df.groupby(['base_config', 'win_len']).i_run.count()"
   ]
  },
  {
   "cell_type": "code",
   "execution_count": null,
   "metadata": {
    "ExecuteTime": {
     "end_time": "2020-02-21T01:05:50.550318Z",
     "start_time": "2020-02-21T01:05:50.540133Z"
    }
   },
   "outputs": [],
   "source": [
    "df.groupby(['base_config', 'win_len']).i_run.max()"
   ]
  },
  {
   "cell_type": "code",
   "execution_count": null,
   "metadata": {
    "ExecuteTime": {
     "end_time": "2020-02-21T01:05:51.316399Z",
     "start_time": "2020-02-21T01:05:51.292129Z"
    }
   },
   "outputs": [],
   "source": [
    "df2 = df.groupby(['base_config', 'win_len']).mean().sort_index().drop('i_run', axis=1)\n",
    "df2"
   ]
  },
  {
   "cell_type": "code",
   "execution_count": null,
   "metadata": {
    "ExecuteTime": {
     "end_time": "2020-02-21T01:05:52.387858Z",
     "start_time": "2020-02-21T01:05:52.383976Z"
    }
   },
   "outputs": [],
   "source": [
    "df3 = df2.loc['base_cnn']"
   ]
  },
  {
   "cell_type": "code",
   "execution_count": null,
   "metadata": {
    "ExecuteTime": {
     "end_time": "2020-02-21T01:06:18.306737Z",
     "start_time": "2020-02-21T01:06:15.385425Z"
    }
   },
   "outputs": [],
   "source": [
    "configs = [\n",
    "    ['base_lstm'],\n",
    "    ['base_cnn'],\n",
    "    ['cnn_lstm'],\n",
    "     ['multi_scale_cnn'], \n",
    "    ['multi_scale_cnn_lstm'],\n",
    "]\n",
    "names = [\n",
    "    'b-LSTM',\n",
    "    'p-CNN',\n",
    "    'p-C/L',\n",
    "    'ms-CNN',\n",
    "    'ms-C/L'\n",
    "]\n",
    "def set_legend(legend_names, legend_title=None, ax=None):\n",
    "    if ax is None:\n",
    "        ax = gca()\n",
    "    ax.get_legend().set_title(legend_title)\n",
    "    # replace labels\n",
    "    for t, l in zip(ax.get_legend().texts, legend_names): \n",
    "        t.set_text(l)\n",
    "\n",
    "scale = .8\n",
    "kwargs = dict( kind='point', dodge=True,\n",
    "              ci=\"sd\", capsize=.2, linestyles=['-', '--', '-.'], \n",
    "              markers = ['o', '.', '^'], scale=scale)\n",
    "\n",
    "f, axes = subplots(2,len(configs), figsize=[1.6 * len(configs),4.25], dpi=300, sharex=True)\n",
    "for i, (base_config,) in enumerate(configs):\n",
    "    df5 = df2.loc[base_config].iloc[:-1,:]\n",
    "\n",
    "    sca(axes[0][i])\n",
    "    gca().set_xscale('log')\n",
    "    \n",
    "    plot(df5.index, df5.f1, 'o-', color=sns.palettes.color_palette()[0], label='$F_{1w}$')\n",
    "    plot(df5.index, df5.event_f1, '.--', color=sns.palettes.color_palette()[1], label='$F_{1e}$')\n",
    "    plot(df5.index, df5.f1_mean, '^-.', color=sns.palettes.color_palette()[2], label='$F_{1m}$')\n",
    "\n",
    "    \n",
    "#     ff = sns.pointplot(data=df3, x=\"win_len\", y=\"value\", hue='Metric',\n",
    "#                        hue_order=[\"f1\", \"event_f1\", \"f1_mean\"],\n",
    "#                        **kwargs)\n",
    "\n",
    "#     set_legend(['F1 (weighted)', 'F1 (mean)', 'Event F1'])\n",
    "\n",
    "    title(names[i])\n",
    "    ylim([.4, 1])\n",
    "    xlabel(None)\n",
    "    if i == len(configs)-1:\n",
    "        ylabel('F1 metric value')\n",
    "        legend(loc='lower right')\n",
    "    \n",
    "    gca().label_outer()\n",
    "    \n",
    "#     df3 =  pd.melt(df.query('base_config == @base_config'), id_vars=['base_config', 'win_len'], value_vars=['cuda_infer_rate', 'cpu_infer_rate'],\n",
    "#                   var_name='Metric')\n",
    "    sca(axes[1][i])\n",
    "#     ff = sns.pointplot(data=df3, x=\"win_len\", y=\"value\", hue='Metric',**kwargs)\n",
    "#     set_legend(['F1 (weighted)', 'Event F1'], #'Metric'\n",
    "#         )\n",
    "    plot(df5.index, df5.cuda_infer_rate, 'o-', color=sns.palettes.color_palette()[0], label='GPU')\n",
    "    plot(df5.index, df5.cpu_infer_rate, '^--', color=sns.palettes.color_palette()[1], label='CPU')\n",
    "\n",
    "\n",
    "    ylim([0, 1500])\n",
    "#     xlim([0, None])\n",
    "\n",
    "    xticks(df5.index[::2], [str(w) for w in df5.index[::2]], rotation=30)\n",
    "    xlabel('Window length')\n",
    "    if i == len(configs)-1:\n",
    "        ylabel('Infer Rate [ksamp/s]')\n",
    "        legend(loc='upper right')\n",
    "        \n",
    "    gca().label_outer()\n",
    "    \n",
    "    \n",
    "tight_layout(w_pad=0.5)#w_pad=3)\n",
    "plt.savefig('win_len_effects.png')"
   ]
  },
  {
   "cell_type": "code",
   "execution_count": null,
   "metadata": {
    "ExecuteTime": {
     "end_time": "2020-02-09T15:47:15.124129Z",
     "start_time": "2020-02-09T15:47:15.114597Z"
    }
   },
   "outputs": [],
   "source": [
    "df5"
   ]
  },
  {
   "cell_type": "code",
   "execution_count": null,
   "metadata": {},
   "outputs": [],
   "source": []
  }
 ],
 "metadata": {
  "hide_input": false,
  "kernelspec": {
   "display_name": "Python 3 (ipykernel)",
   "language": "python",
   "name": "python3"
  },
  "language_info": {
   "codemirror_mode": {
    "name": "ipython",
    "version": 3
   },
   "file_extension": ".py",
   "mimetype": "text/x-python",
   "name": "python",
   "nbconvert_exporter": "python",
   "pygments_lexer": "ipython3",
   "version": "3.9.7"
  }
 },
 "nbformat": 4,
 "nbformat_minor": 2
}
